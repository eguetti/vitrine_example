{
 "cells": [
  {
   "cell_type": "markdown",
   "metadata": {},
   "source": [
    "# Hackaton Bioinformatica 2022\n"
   ]
  },
  {
   "cell_type": "code",
   "execution_count": 6,
   "metadata": {},
   "outputs": [],
   "source": [
    "import requests\n",
    "import json\n",
    "import numpy as np\n",
    "import pandas as pd\n",
    "import urllib.parse\n",
    "from IPython.core.display import display, HTML\n",
    "from IPython.display import IFrame\n"
   ]
  },
  {
   "cell_type": "code",
   "execution_count": 21,
   "metadata": {},
   "outputs": [],
   "source": [
    "baseurl='https://query.wikidata.org/embed.html#'\n",
    "\n",
    "url = \"https://query.wikidata.org/sparql\"\n",
    "query = \"\"\"SELECT DISTINCT  (count( ?article) as ?ARTIGOS)  WHERE {   \n",
    "  ?article wdt:P50 wd:Q42614737 .       \n",
    "}\"\"\"\n",
    "params = {\n",
    "    \"query\": query,\n",
    "    \"format\": \"json\"\n",
    "}\n",
    "\n",
    "\n",
    "result = requests.get(url=url, params=params, headers={'User-agent': 'WikiMI QAM 1.0'})\n",
    "data = result.json()\n",
    "artigos = data['results']['bindings'][0]['ARTIGOS']['value']"
   ]
  },
  {
   "cell_type": "code",
   "execution_count": 29,
   "metadata": {},
   "outputs": [
    {
     "data": {
      "text/html": [
       "<font size='+0.8'>O pesquisador  <a href='https://www.wikidata.org/wiki/Q42614737' target='_blank'>Helder Nakaya</a>  possui no Wikidata até o momento 148 publicações registradas .</font>"
      ],
      "text/plain": [
       "<IPython.core.display.HTML object>"
      ]
     },
     "metadata": {},
     "output_type": "display_data"
    }
   ],
   "source": [
    "text0 = \"O pesquisador  <a href='https://www.wikidata.org/wiki/Q42614737' target='_blank'>Helder Nakaya</a>  possui no Wikidata até o momento \"\n",
    "text01 = \" publicações registradas .\"\n",
    "\n",
    "paragrafo0 = text0 + artigos + text01\n",
    "\n",
    "\n",
    "display(HTML(\"<font size='+0.8'>\" + paragrafo0 + \"</font>\"))"
   ]
  },
  {
   "cell_type": "code",
   "execution_count": 31,
   "metadata": {},
   "outputs": [
    {
     "data": {
      "text/html": [
       "<font size='+0.8'>&nbsp; O gráfico seguinte apresenta as publicações do pesquisador ordenadas pela classificação <a href=' https://www.wikidata.org/wiki/Property:P9683 target='_blank'>Qualis Capes.</a> </font>"
      ],
      "text/plain": [
       "<IPython.core.display.HTML object>"
      ]
     },
     "metadata": {},
     "output_type": "display_data"
    }
   ],
   "source": [
    "text1 = \"&nbsp; O gráfico seguinte apresenta as publicações do pesquisador\"\n",
    "\n",
    "text2 = \" ordenadas pela classificação <a href=' https://www.wikidata.org/wiki/Property:P9683 target='_blank'>Qualis Capes.</a> \"\n",
    "\n",
    "paragrafo1 =  text1 + text2 \n",
    "\n",
    "display(HTML(\"<font size='+0.8'>\" + paragrafo1 + \"</font>\"))\n",
    "\n"
   ]
  },
  {
   "cell_type": "code",
   "execution_count": 32,
   "metadata": {},
   "outputs": [
    {
     "data": {
      "text/html": [
       "\n",
       "        <iframe\n",
       "            width=\"1000\"\n",
       "            height=\"700\"\n",
       "            src=\"https://query.wikidata.org/embed.html#%0A%23defaultView%3ABarChart%0A%23Qualis%20Publica%C3%A7%C3%B5es%20Helder%20Nakaya%0ASeLECT%20DISTINCT%20%3FqualisLabel%20%20%28count%28%20%3Fqualis%29%20as%20%3FQualis%29%20%3FvenueLabel%20WHERE%20%7B%0A%20%20%20%0A%20%20%3Farticle%20wdt%3AP50%20wd%3AQ42614737%20.%20%20%20%0A%20%20%3Farticle%20wdt%3AP1433%20%3Fvenue%20.%20%20%20%0A%20%20OPTIONAL%20%7B%0A%20%20%20%20%3Fvenue%20wdt%3AP9683%20%3Fqualis%20.%0A%20%20%20%20%3Fqualis%20rdfs%3Alabel%20%3Flabel_%20%20.%20%20%20%20%20%20%0A%20%20%7D%20%0A%20%20%0A%20%20FILTER%20%20EXISTS%20%7B%3Fvenue%20wdt%3AP9683%20%3Fqualis%7D%0A%20%20SERVICE%20wikibase%3Alabel%20%7B%20bd%3AserviceParam%20wikibase%3Alanguage%20%22%5BAUTO_LANGUAGE%5D%2Cen%22.%20%7D%0A%20%20%0A%7D%20Group%20by%20%3FqualisLabel%20%3FvenueLabel%0AORDER%20BY%20Desc%20%28%3FQualis%29%0A\"\n",
       "            frameborder=\"0\"\n",
       "            allowfullscreen\n",
       "        ></iframe>\n",
       "        "
      ],
      "text/plain": [
       "<IPython.lib.display.IFrame at 0x7f706a79f080>"
      ]
     },
     "execution_count": 32,
     "metadata": {},
     "output_type": "execute_result"
    }
   ],
   "source": [
    "wdq(width=1000,height=700,query=\"\"\"\n",
    "#defaultView:BarChart\n",
    "#Qualis Publicações Helder Nakaya\n",
    "SeLECT DISTINCT ?qualisLabel  (count( ?qualis) as ?Qualis) ?venueLabel WHERE {\n",
    "   \n",
    "  ?article wdt:P50 wd:Q42614737 .   \n",
    "  ?article wdt:P1433 ?venue .   \n",
    "  OPTIONAL {\n",
    "    ?venue wdt:P9683 ?qualis .\n",
    "    ?qualis rdfs:label ?label_  .      \n",
    "  } \n",
    "  \n",
    "  FILTER  EXISTS {?venue wdt:P9683 ?qualis}\n",
    "  SERVICE wikibase:label { bd:serviceParam wikibase:language \"[AUTO_LANGUAGE],en\". }\n",
    "  \n",
    "} Group by ?qualisLabel ?venueLabel\n",
    "ORDER BY Desc (?Qualis)\n",
    "\"\"\")"
   ]
  },
  {
   "cell_type": "code",
   "execution_count": null,
   "metadata": {},
   "outputs": [],
   "source": []
  }
 ],
 "metadata": {
  "kernelspec": {
   "display_name": "Python 3",
   "language": "python",
   "name": "python3"
  },
  "language_info": {
   "codemirror_mode": {
    "name": "ipython",
    "version": 3
   },
   "file_extension": ".py",
   "mimetype": "text/x-python",
   "name": "python",
   "nbconvert_exporter": "python",
   "pygments_lexer": "ipython3",
   "version": "3.7.3"
  }
 },
 "nbformat": 4,
 "nbformat_minor": 2
}
